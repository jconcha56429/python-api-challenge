{
 "cells": [
  {
   "cell_type": "markdown",
   "metadata": {},
   "source": [
    "# VacationPy\n",
    "----\n",
    "\n",
    "#### Note\n",
    "* Keep an eye on your API usage. Use https://developers.google.com/maps/reporting/gmp-reporting as reference for how to monitor your usage and billing.\n",
    "\n",
    "* Instructions have been included for each segment. You do not have to follow them exactly, but they are included to help you think through the steps."
   ]
  },
  {
   "cell_type": "code",
   "execution_count": 1,
   "metadata": {},
   "outputs": [],
   "source": [
    "# Dependencies and Setup\n",
    "import matplotlib.pyplot as plt\n",
    "import pandas as pd\n",
    "import numpy as np\n",
    "import requests\n",
    "import gmaps\n",
    "import os\n",
    "import csv\n",
    "\n",
    "# Import API key\n",
    "from api_keys import (weather_api_key,g_key)\n"
   ]
  },
  {
   "cell_type": "markdown",
   "metadata": {},
   "source": [
    "### Store Part I results into DataFrame\n",
    "* Load the csv exported in Part I to a DataFrame"
   ]
  },
  {
   "cell_type": "code",
   "execution_count": 2,
   "metadata": {},
   "outputs": [
    {
     "data": {
      "text/html": [
       "<div>\n",
       "<style scoped>\n",
       "    .dataframe tbody tr th:only-of-type {\n",
       "        vertical-align: middle;\n",
       "    }\n",
       "\n",
       "    .dataframe tbody tr th {\n",
       "        vertical-align: top;\n",
       "    }\n",
       "\n",
       "    .dataframe thead th {\n",
       "        text-align: right;\n",
       "    }\n",
       "</style>\n",
       "<table border=\"1\" class=\"dataframe\">\n",
       "  <thead>\n",
       "    <tr style=\"text-align: right;\">\n",
       "      <th></th>\n",
       "      <th>Unnamed: 0</th>\n",
       "      <th>City</th>\n",
       "      <th>Lat</th>\n",
       "      <th>Lon</th>\n",
       "      <th>Temp</th>\n",
       "      <th>Max Temp</th>\n",
       "      <th>Cloudiness</th>\n",
       "      <th>Wind Speed</th>\n",
       "      <th>Country</th>\n",
       "      <th>Date</th>\n",
       "      <th>Humidity</th>\n",
       "    </tr>\n",
       "  </thead>\n",
       "  <tbody>\n",
       "    <tr>\n",
       "      <th>0</th>\n",
       "      <td>0</td>\n",
       "      <td>Avera</td>\n",
       "      <td>33.1940</td>\n",
       "      <td>-82.5271</td>\n",
       "      <td>62.64</td>\n",
       "      <td>64.40</td>\n",
       "      <td>1</td>\n",
       "      <td>9.22</td>\n",
       "      <td>US</td>\n",
       "      <td>1619131767</td>\n",
       "      <td>19</td>\n",
       "    </tr>\n",
       "    <tr>\n",
       "      <th>1</th>\n",
       "      <td>1</td>\n",
       "      <td>Gizo Government Station</td>\n",
       "      <td>-8.1030</td>\n",
       "      <td>156.8419</td>\n",
       "      <td>83.21</td>\n",
       "      <td>83.21</td>\n",
       "      <td>100</td>\n",
       "      <td>3.62</td>\n",
       "      <td>SB</td>\n",
       "      <td>1619132237</td>\n",
       "      <td>71</td>\n",
       "    </tr>\n",
       "    <tr>\n",
       "      <th>2</th>\n",
       "      <td>2</td>\n",
       "      <td>Bredasdorp</td>\n",
       "      <td>-34.5322</td>\n",
       "      <td>20.0403</td>\n",
       "      <td>62.08</td>\n",
       "      <td>62.08</td>\n",
       "      <td>1</td>\n",
       "      <td>1.88</td>\n",
       "      <td>ZA</td>\n",
       "      <td>1619131697</td>\n",
       "      <td>92</td>\n",
       "    </tr>\n",
       "    <tr>\n",
       "      <th>3</th>\n",
       "      <td>3</td>\n",
       "      <td>Viedma</td>\n",
       "      <td>-40.8135</td>\n",
       "      <td>-62.9967</td>\n",
       "      <td>60.58</td>\n",
       "      <td>60.58</td>\n",
       "      <td>40</td>\n",
       "      <td>7.14</td>\n",
       "      <td>AR</td>\n",
       "      <td>1619132036</td>\n",
       "      <td>59</td>\n",
       "    </tr>\n",
       "    <tr>\n",
       "      <th>4</th>\n",
       "      <td>4</td>\n",
       "      <td>Busselton</td>\n",
       "      <td>-33.6500</td>\n",
       "      <td>115.3333</td>\n",
       "      <td>55.08</td>\n",
       "      <td>57.00</td>\n",
       "      <td>82</td>\n",
       "      <td>1.99</td>\n",
       "      <td>AU</td>\n",
       "      <td>1619131934</td>\n",
       "      <td>84</td>\n",
       "    </tr>\n",
       "    <tr>\n",
       "      <th>...</th>\n",
       "      <td>...</td>\n",
       "      <td>...</td>\n",
       "      <td>...</td>\n",
       "      <td>...</td>\n",
       "      <td>...</td>\n",
       "      <td>...</td>\n",
       "      <td>...</td>\n",
       "      <td>...</td>\n",
       "      <td>...</td>\n",
       "      <td>...</td>\n",
       "      <td>...</td>\n",
       "    </tr>\n",
       "    <tr>\n",
       "      <th>552</th>\n",
       "      <td>552</td>\n",
       "      <td>Aktobe</td>\n",
       "      <td>50.2797</td>\n",
       "      <td>57.2072</td>\n",
       "      <td>48.20</td>\n",
       "      <td>48.20</td>\n",
       "      <td>0</td>\n",
       "      <td>8.95</td>\n",
       "      <td>KZ</td>\n",
       "      <td>1619132228</td>\n",
       "      <td>49</td>\n",
       "    </tr>\n",
       "    <tr>\n",
       "      <th>553</th>\n",
       "      <td>553</td>\n",
       "      <td>Portland</td>\n",
       "      <td>45.5234</td>\n",
       "      <td>-122.6762</td>\n",
       "      <td>64.13</td>\n",
       "      <td>66.99</td>\n",
       "      <td>75</td>\n",
       "      <td>3.58</td>\n",
       "      <td>US</td>\n",
       "      <td>1619132173</td>\n",
       "      <td>48</td>\n",
       "    </tr>\n",
       "    <tr>\n",
       "      <th>554</th>\n",
       "      <td>554</td>\n",
       "      <td>Orbetello</td>\n",
       "      <td>42.4408</td>\n",
       "      <td>11.2196</td>\n",
       "      <td>48.56</td>\n",
       "      <td>48.99</td>\n",
       "      <td>20</td>\n",
       "      <td>5.75</td>\n",
       "      <td>IT</td>\n",
       "      <td>1619132412</td>\n",
       "      <td>87</td>\n",
       "    </tr>\n",
       "    <tr>\n",
       "      <th>555</th>\n",
       "      <td>555</td>\n",
       "      <td>Kiama</td>\n",
       "      <td>-34.6833</td>\n",
       "      <td>150.8667</td>\n",
       "      <td>60.76</td>\n",
       "      <td>62.01</td>\n",
       "      <td>0</td>\n",
       "      <td>11.99</td>\n",
       "      <td>AU</td>\n",
       "      <td>1619132412</td>\n",
       "      <td>58</td>\n",
       "    </tr>\n",
       "    <tr>\n",
       "      <th>556</th>\n",
       "      <td>556</td>\n",
       "      <td>Ambon City</td>\n",
       "      <td>-3.6954</td>\n",
       "      <td>128.1814</td>\n",
       "      <td>78.80</td>\n",
       "      <td>78.80</td>\n",
       "      <td>40</td>\n",
       "      <td>6.91</td>\n",
       "      <td>ID</td>\n",
       "      <td>1619132292</td>\n",
       "      <td>94</td>\n",
       "    </tr>\n",
       "  </tbody>\n",
       "</table>\n",
       "<p>557 rows × 11 columns</p>\n",
       "</div>"
      ],
      "text/plain": [
       "     Unnamed: 0                     City      Lat       Lon   Temp  Max Temp  \\\n",
       "0             0                    Avera  33.1940  -82.5271  62.64     64.40   \n",
       "1             1  Gizo Government Station  -8.1030  156.8419  83.21     83.21   \n",
       "2             2               Bredasdorp -34.5322   20.0403  62.08     62.08   \n",
       "3             3                   Viedma -40.8135  -62.9967  60.58     60.58   \n",
       "4             4                Busselton -33.6500  115.3333  55.08     57.00   \n",
       "..          ...                      ...      ...       ...    ...       ...   \n",
       "552         552                   Aktobe  50.2797   57.2072  48.20     48.20   \n",
       "553         553                 Portland  45.5234 -122.6762  64.13     66.99   \n",
       "554         554                Orbetello  42.4408   11.2196  48.56     48.99   \n",
       "555         555                    Kiama -34.6833  150.8667  60.76     62.01   \n",
       "556         556               Ambon City  -3.6954  128.1814  78.80     78.80   \n",
       "\n",
       "     Cloudiness  Wind Speed Country        Date  Humidity  \n",
       "0             1        9.22      US  1619131767        19  \n",
       "1           100        3.62      SB  1619132237        71  \n",
       "2             1        1.88      ZA  1619131697        92  \n",
       "3            40        7.14      AR  1619132036        59  \n",
       "4            82        1.99      AU  1619131934        84  \n",
       "..          ...         ...     ...         ...       ...  \n",
       "552           0        8.95      KZ  1619132228        49  \n",
       "553          75        3.58      US  1619132173        48  \n",
       "554          20        5.75      IT  1619132412        87  \n",
       "555           0       11.99      AU  1619132412        58  \n",
       "556          40        6.91      ID  1619132292        94  \n",
       "\n",
       "[557 rows x 11 columns]"
      ]
     },
     "execution_count": 2,
     "metadata": {},
     "output_type": "execute_result"
    }
   ],
   "source": [
    "import_csv = \"../WeatherPy/city_data.csv\"    \n",
    "data_df = pd.read_csv(import_csv,encoding='utf-8')\n",
    "data_df"
   ]
  },
  {
   "cell_type": "markdown",
   "metadata": {},
   "source": [
    "### Humidity Heatmap\n",
    "* Configure gmaps.\n",
    "* Use the Lat and Lng as locations and Humidity as the weight.\n",
    "* Add Heatmap layer to map."
   ]
  },
  {
   "cell_type": "code",
   "execution_count": 7,
   "metadata": {},
   "outputs": [
    {
     "data": {
      "application/vnd.jupyter.widget-view+json": {
       "model_id": "725e38ec16be4490a8eb9073db56845c",
       "version_major": 2,
       "version_minor": 0
      },
      "text/plain": [
       "Figure(layout=FigureLayout(height='420px'))"
      ]
     },
     "metadata": {},
     "output_type": "display_data"
    }
   ],
   "source": [
    "gmaps.configure(api_key=g_key)\n",
    "marker_l = data_df[['Lat','Lon']].astype(float) \n",
    "fig = gmaps.figure()\n",
    "heatmap_layer = gmaps.heatmap_layer(marker_l, weights=data_df['Humidity'],max_intensity=10000, point_radius=20.0\n",
    ")\n",
    "fig.add_layer(heatmap_layer)\n",
    "fig"
   ]
  },
  {
   "cell_type": "code",
   "execution_count": 6,
   "metadata": {},
   "outputs": [
    {
     "ename": "SyntaxError",
     "evalue": "invalid syntax (<ipython-input-6-a1f9ad41e54e>, line 1)",
     "output_type": "error",
     "traceback": [
      "\u001b[1;36m  File \u001b[1;32m\"<ipython-input-6-a1f9ad41e54e>\"\u001b[1;36m, line \u001b[1;32m1\u001b[0m\n\u001b[1;33m    jupyter nbextension enable --py gmaps\u001b[0m\n\u001b[1;37m                      ^\u001b[0m\n\u001b[1;31mSyntaxError\u001b[0m\u001b[1;31m:\u001b[0m invalid syntax\n"
     ]
    }
   ],
   "source": []
  },
  {
   "cell_type": "markdown",
   "metadata": {},
   "source": [
    "### Create new DataFrame fitting weather criteria\n",
    "* Narrow down the cities to fit weather conditions.\n",
    "* Drop any rows will null values."
   ]
  },
  {
   "cell_type": "code",
   "execution_count": null,
   "metadata": {},
   "outputs": [],
   "source": []
  },
  {
   "cell_type": "markdown",
   "metadata": {},
   "source": [
    "### Hotel Map\n",
    "* Store into variable named `hotel_df`.\n",
    "* Add a \"Hotel Name\" column to the DataFrame.\n",
    "* Set parameters to search for hotels with 5000 meters.\n",
    "* Hit the Google Places API for each city's coordinates.\n",
    "* Store the first Hotel result into the DataFrame.\n",
    "* Plot markers on top of the heatmap."
   ]
  },
  {
   "cell_type": "code",
   "execution_count": null,
   "metadata": {},
   "outputs": [],
   "source": []
  },
  {
   "cell_type": "code",
   "execution_count": null,
   "metadata": {},
   "outputs": [],
   "source": []
  },
  {
   "cell_type": "code",
   "execution_count": null,
   "metadata": {},
   "outputs": [],
   "source": [
    "# NOTE: Do not change any of the code in this cell\n",
    "\n",
    "# Using the template add the hotel marks to the heatmap\n",
    "info_box_template = \"\"\"\n",
    "<dl>\n",
    "<dt>Name</dt><dd>{Hotel Name}</dd>\n",
    "<dt>City</dt><dd>{City}</dd>\n",
    "<dt>Country</dt><dd>{Country}</dd>\n",
    "</dl>\n",
    "\"\"\"\n",
    "# Store the DataFrame Row\n",
    "# NOTE: be sure to update with your DataFrame name\n",
    "hotel_info = [info_box_template.format(**row) for index, row in hotel_df.iterrows()]\n",
    "locations = hotel_df[[\"Lat\", \"Lng\"]]"
   ]
  },
  {
   "cell_type": "code",
   "execution_count": null,
   "metadata": {},
   "outputs": [],
   "source": [
    "# Add marker layer ontop of heat map\n",
    "\n",
    "\n",
    "# Display figure\n"
   ]
  },
  {
   "cell_type": "code",
   "execution_count": null,
   "metadata": {},
   "outputs": [],
   "source": []
  }
 ],
 "metadata": {
  "kernelspec": {
   "display_name": "Python [conda env:PythonData]",
   "language": "python",
   "name": "conda-env-PythonData-py"
  },
  "language_info": {
   "codemirror_mode": {
    "name": "ipython",
    "version": 3
   },
   "file_extension": ".py",
   "mimetype": "text/x-python",
   "name": "python",
   "nbconvert_exporter": "python",
   "pygments_lexer": "ipython3",
   "version": "3.6.10"
  },
  "latex_envs": {
   "LaTeX_envs_menu_present": true,
   "autoclose": false,
   "autocomplete": true,
   "bibliofile": "biblio.bib",
   "cite_by": "apalike",
   "current_citInitial": 1,
   "eqLabelWithNumbers": true,
   "eqNumInitial": 1,
   "hotkeys": {
    "equation": "Ctrl-E",
    "itemize": "Ctrl-I"
   },
   "labels_anchors": false,
   "latex_user_defs": false,
   "report_style_numbering": false,
   "user_envs_cfg": false
  }
 },
 "nbformat": 4,
 "nbformat_minor": 4
}
