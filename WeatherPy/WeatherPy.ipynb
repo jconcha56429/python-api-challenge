{
 "cells": [
  {
   "cell_type": "markdown",
   "metadata": {},
   "source": [
    "# WeatherPy\n",
    "----\n",
    "\n",
    "#### Note\n",
    "* Instructions have been included for each segment. You do not have to follow them exactly, but they are included to help you think through the steps."
   ]
  },
  {
   "cell_type": "code",
   "execution_count": null,
   "metadata": {
    "scrolled": true
   },
   "outputs": [],
   "source": [
    "# Dependencies and Setup\n",
    "import matplotlib.pyplot as plt\n",
    "import pandas as pd\n",
    "import numpy as np\n",
    "import requests\n",
    "import time\n",
    "from scipy.stats import linregress\n",
    "import csv\n",
    "# Import API key\n",
    "from api_keys import weather_api_key\n",
    "\n",
    "# Incorporated citipy to determine city based on latitude and longitude\n",
    "from citipy import citipy\n",
    "\n",
    "# Output File (CSV)\n",
    "output_data_file = \"../WeatherPy/cities.csv\"\n",
    "\n",
    "# Range of latitudes and longitudes\n",
    "lat_range = (-90, 90)\n",
    "lng_range = (-180, 180)\n",
    "with open(output_data_file,'r') as file:\n",
    "        reader = csv.reader(file)\n",
    "        for row in reader:\n",
    "            print(row)\n",
    "print(type(reader))"
   ]
  },
  {
   "cell_type": "markdown",
   "metadata": {},
   "source": [
    "## Generate Cities List"
   ]
  },
  {
   "cell_type": "code",
   "execution_count": 2,
   "metadata": {},
   "outputs": [
    {
     "data": {
      "text/plain": [
       "606"
      ]
     },
     "execution_count": 2,
     "metadata": {},
     "output_type": "execute_result"
    }
   ],
   "source": [
    "# List for holding lat_lngs and cities\n",
    "lat_lngs = []\n",
    "cities = []\n",
    "\n",
    "# Create a set of random lat and lng combinations\n",
    "lats = np.random.uniform(lat_range[0], lat_range[1], size=1500)\n",
    "lngs = np.random.uniform(lng_range[0], lng_range[1], size=1500)\n",
    "lat_lngs = zip(lats, lngs)\n",
    "\n",
    "# Identify nearest city for each lat, lng combination\n",
    "for lat_lng in lat_lngs:\n",
    "    city = citipy.nearest_city(lat_lng[0], lat_lng[1]).city_name\n",
    "    # what is .city_name\n",
    "    \n",
    "    # If the city is unique, then add it to a our cities list\n",
    "    if city not in cities:\n",
    "        cities.append(city)\n",
    "\n",
    "# Print the city count to confirm sufficient count\n",
    "len(cities)"
   ]
  },
  {
   "cell_type": "markdown",
   "metadata": {},
   "source": [
    "### Perform API Calls\n",
    "* Perform a weather check on each city using a series of successive API calls.\n",
    "* Include a print log of each city as it'sbeing processed (with the city number and city name).\n"
   ]
  },
  {
   "cell_type": "code",
   "execution_count": 3,
   "metadata": {
    "scrolled": true
   },
   "outputs": [],
   "source": [
    "url = \"http://api.openweathermap.org/data/2.5/weather?\"\n",
    "units = 'imperial'\n",
    "query_url = f\"{url}appid={weather_api_key}&units={units}&q=\"\n",
    "\n",
    "city_data = []\n",
    "names =[]\n",
    "lat = []\n",
    "lng = []\n",
    "temp = []\n",
    "max_t = []\n",
    "cloud = []\n",
    "wspeed = []\n",
    "country = []\n",
    "date = []\n",
    "humid = []\n",
    "record_count = 0\n",
    "\n"
   ]
  },
  {
   "cell_type": "code",
   "execution_count": 4,
   "metadata": {},
   "outputs": [
    {
     "name": "stdout",
     "output_type": "stream",
     "text": [
      "city number 0 avera\n",
      "city number 1 gizo\n",
      "city number 2 bredasdorp\n",
      "city number 3 viedma\n",
      "city number 4 busselton\n",
      "city number 5 hithadhoo\n",
      "city number 6 barrow\n",
      "city number 7 linxia\n",
      "city number 8 robinson\n",
      "city number 9 kodiak\n",
      "city number 10 pevek\n",
      "city number 11 saskylakh\n",
      "city number 12 pisco\n",
      "city number 13 magadan\n",
      "city number 14 mirnyy\n",
      "city number 15 coihaique\n",
      "city number 16 avarua\n",
      "city number 17 thompson\n",
      "city number 18 zhireken\n",
      "city number 19 saldanha\n",
      "city number 20 albany\n",
      "city number 21 myshkin\n",
      "uh oh city not found!\n",
      "city number 22 nanortalik\n",
      "city number 23 hobart\n",
      "city number 24 kaitangata\n",
      "uh oh city not found!\n",
      "city number 25 puerto leguizamo\n",
      "city number 26 forio\n",
      "city number 27 touros\n",
      "city number 28 punta arenas\n",
      "city number 29 vaini\n",
      "city number 30 pierre\n",
      "city number 31 saint pete beach\n",
      "city number 32 bulgan\n",
      "city number 33 isangel\n",
      "city number 34 khatanga\n",
      "city number 35 rikitea\n",
      "city number 36 qaanaaq\n",
      "city number 37 maragogi\n",
      "city number 38 ushuaia\n",
      "city number 39 arman\n",
      "city number 40 teya\n",
      "city number 41 whitehorse\n",
      "city number 42 lompoc\n",
      "city number 43 dunedin\n",
      "uh oh city not found!\n",
      "city number 44 broken hill\n",
      "city number 45 pathein\n",
      "city number 46 puerto ayora\n",
      "city number 47 carutapera\n",
      "city number 48 olinda\n",
      "city number 49 mataura\n",
      "city number 50 dikson\n",
      "city number 51 hamilton\n",
      "city number 52 port elizabeth\n",
      "city number 53 namatanai\n",
      "city number 54 dali\n",
      "city number 55 teguldet\n",
      "city number 56 gamboula\n",
      "city number 57 ullapool\n",
      "uh oh city not found!\n",
      "city number 58 shingu\n",
      "city number 59 hilo\n",
      "city number 60 krasnyy chikoy\n",
      "city number 61 contai\n",
      "city number 62 saint-philippe\n",
      "city number 63 saint george\n",
      "city number 64 zemio\n",
      "city number 65 geraldton\n",
      "city number 66 bani\n",
      "city number 67 bilma\n",
      "uh oh city not found!\n",
      "city number 68 tulum\n",
      "city number 69 manokwari\n",
      "city number 70 husavik\n",
      "city number 71 port alfred\n",
      "city number 72 yellowknife\n",
      "city number 73 mar del plata\n",
      "city number 74 kapaa\n",
      "city number 75 lebu\n",
      "uh oh city not found!\n",
      "city number 76 narsaq\n",
      "city number 77 oranjemund\n",
      "city number 78 iqaluit\n",
      "uh oh city not found!\n",
      "city number 79 paducah\n",
      "city number 80 bengkulu\n",
      "city number 81 hirara\n",
      "city number 82 bubaque\n",
      "city number 83 semporna\n",
      "city number 84 tuktoyaktuk\n",
      "city number 85 vardo\n",
      "city number 86 severomuysk\n",
      "city number 87 kununurra\n",
      "city number 88 south shields\n",
      "uh oh city not found!\n",
      "uh oh city not found!\n",
      "city number 89 upernavik\n",
      "city number 90 dingle\n",
      "city number 91 arraial do cabo\n",
      "city number 92 longyearbyen\n",
      "city number 93 cape town\n",
      "city number 94 hermanus\n",
      "city number 95 samarai\n",
      "city number 96 bandarbeyla\n",
      "city number 97 bethel\n",
      "city number 98 east london\n",
      "city number 99 hofn\n",
      "city number 100 castro\n",
      "city number 101 okhotsk\n",
      "city number 102 shimoda\n",
      "city number 103 aiquile\n",
      "city number 104 tiksi\n",
      "city number 105 kirakira\n",
      "city number 106 codrington\n",
      "city number 107 bambous virieux\n",
      "city number 108 churachandpur\n",
      "city number 109 half moon bay\n",
      "city number 110 opuwo\n",
      "city number 111 severo-kurilsk\n",
      "city number 112 new norfolk\n",
      "city number 113 jamestown\n",
      "city number 114 yumen\n",
      "city number 115 general roca\n",
      "city number 116 miraflores\n",
      "city number 117 yulara\n",
      "city number 118 harer\n",
      "city number 119 uyuni\n",
      "city number 120 ati\n",
      "city number 121 villazon\n",
      "city number 122 lucea\n",
      "city number 123 cidreira\n",
      "city number 124 dayong\n",
      "city number 125 luba\n",
      "city number 126 norman wells\n",
      "city number 127 atuona\n",
      "city number 128 los llanos de aridane\n",
      "city number 129 marawi\n",
      "city number 130 kavieng\n",
      "city number 131 seoul\n",
      "city number 132 alofi\n",
      "city number 133 esik\n",
      "city number 134 port hardy\n",
      "city number 135 nikolskoye\n",
      "city number 136 barra da estiva\n",
      "city number 137 tateyama\n",
      "city number 138 newtownards\n",
      "uh oh city not found!\n",
      "city number 139 prata\n",
      "city number 140 poum\n",
      "city number 141 san patricio\n",
      "city number 142 atbasar\n",
      "city number 143 haines junction\n",
      "city number 144 kieta\n",
      "city number 145 singaraja\n",
      "city number 146 assiniboia\n",
      "city number 147 cairns\n",
      "city number 148 kodinsk\n",
      "city number 149 karasjok\n",
      "uh oh city not found!\n",
      "city number 150 chuy\n",
      "city number 151 aripuana\n",
      "city number 152 coquimbo\n",
      "uh oh city not found!\n",
      "city number 153 jhargram\n",
      "city number 154 ukiah\n",
      "city number 155 bud\n",
      "city number 156 lorengau\n",
      "uh oh city not found!\n",
      "city number 157 linjiang\n",
      "city number 158 kikuyu\n",
      "city number 159 apricena\n",
      "city number 160 bluff\n",
      "city number 161 hambantota\n",
      "city number 162 tsiroanomandidy\n",
      "city number 163 maniitsoq\n",
      "city number 164 moose factory\n",
      "city number 165 aketi\n",
      "uh oh city not found!\n",
      "city number 166 borzya\n",
      "city number 167 sao filipe\n",
      "city number 168 vila velha\n",
      "city number 169 tasiilaq\n",
      "city number 170 cayenne\n",
      "city number 171 kyaikkami\n",
      "city number 172 celakovice\n",
      "uh oh city not found!\n",
      "city number 173 pemberton\n",
      "uh oh city not found!\n",
      "city number 174 aksu\n",
      "city number 175 lola\n",
      "city number 176 wladyslawowo\n",
      "city number 177 aksay\n",
      "city number 178 jaca\n",
      "city number 179 mount gambier\n",
      "city number 180 carnarvon\n",
      "city number 181 chokurdakh\n",
      "city number 182 anadyr\n",
      "city number 183 akureyri\n",
      "city number 184 taoudenni\n",
      "city number 185 broceni\n",
      "city number 186 grindavik\n",
      "city number 187 puerto colombia\n",
      "city number 188 sibolga\n",
      "city number 189 nantucket\n",
      "city number 190 kastamonu\n",
      "city number 191 katsuura\n",
      "city number 192 butaritari\n",
      "city number 193 hasaki\n",
      "city number 194 namtsy\n",
      "city number 195 vao\n",
      "city number 196 hwange\n",
      "city number 197 svetlyy\n",
      "city number 198 caucaia\n",
      "city number 199 waipawa\n",
      "city number 200 tubuala\n",
      "uh oh city not found!\n",
      "city number 201 macau\n",
      "city number 202 ponta delgada\n",
      "city number 203 rio gallegos\n",
      "city number 204 erenhot\n",
      "city number 205 witu\n",
      "city number 206 lucena\n",
      "city number 207 hargeysa\n",
      "city number 208 victoria\n",
      "city number 209 faanui\n",
      "uh oh city not found!\n",
      "uh oh city not found!\n",
      "city number 210 ofaqim\n",
      "city number 211 sambava\n",
      "city number 212 klyuchi\n",
      "city number 213 olafsvik\n",
      "city number 214 borovoy\n",
      "city number 215 weatherford\n",
      "city number 216 tuatapere\n",
      "city number 217 padang\n",
      "city number 218 merzifon\n",
      "city number 219 klaksvik\n",
      "uh oh city not found!\n",
      "uh oh city not found!\n",
      "city number 220 wuning\n",
      "city number 221 sebinkarahisar\n",
      "city number 222 jinchang\n",
      "city number 223 savannah bight\n",
      "city number 224 mandera\n",
      "city number 225 sisimiut\n",
      "uh oh city not found!\n",
      "city number 226 ardakan\n",
      "city number 227 torbay\n",
      "city number 228 wellington\n",
      "city number 229 chapais\n",
      "city number 230 boende\n",
      "uh oh city not found!\n",
      "city number 231 bukama\n",
      "city number 232 muscle shoals\n",
      "city number 233 arvika\n",
      "city number 234 hervey bay\n",
      "city number 235 lubango\n",
      "city number 236 jieshi\n",
      "city number 237 amarpatan\n",
      "city number 238 balkanabat\n",
      "city number 239 airai\n",
      "city number 240 cherskiy\n",
      "city number 241 shimanovsk\n",
      "city number 242 luderitz\n",
      "city number 243 spring hill\n",
      "city number 244 tautira\n",
      "city number 245 tupa\n",
      "city number 246 kijang\n",
      "city number 247 tamandare\n",
      "city number 248 yangambi\n",
      "city number 249 rani\n",
      "uh oh city not found!\n",
      "city number 250 zyryanka\n",
      "uh oh city not found!\n",
      "city number 251 lahij\n",
      "city number 252 celendin\n",
      "city number 253 bonavista\n",
      "city number 254 nuuk\n",
      "city number 255 souillac\n",
      "city number 256 belmonte\n",
      "uh oh city not found!\n",
      "city number 257 udachnyy\n",
      "city number 258 cabo san lucas\n",
      "city number 259 kaduna\n",
      "city number 260 jacareacanga\n",
      "city number 261 collie\n",
      "uh oh city not found!\n",
      "city number 262 ahipara\n",
      "city number 263 san quintin\n",
      "city number 264 the valley\n",
      "city number 265 cabedelo\n",
      "uh oh city not found!\n",
      "city number 266 itoman\n",
      "city number 267 tarko-sale\n",
      "city number 268 martapura\n",
      "city number 269 latur\n",
      "city number 270 bogorodsk\n",
      "city number 271 rawson\n",
      "city number 272 kandrian\n",
      "city number 273 balikpapan\n",
      "city number 274 mumford\n",
      "city number 275 dorado\n",
      "city number 276 meadow lake\n",
      "city number 277 todos santos\n",
      "city number 278 vestmanna\n",
      "city number 279 biryusinsk\n",
      "city number 280 umm kaddadah\n",
      "city number 281 panaba\n",
      "city number 282 grand gaube\n",
      "city number 283 eyl\n",
      "city number 284 karaton\n",
      "city number 285 indramayu\n",
      "city number 286 denpasar\n",
      "city number 287 leningradskiy\n",
      "city number 288 port augusta\n",
      "city number 289 natal\n",
      "city number 290 kota kinabalu\n",
      "city number 291 praia\n",
      "city number 292 camapua\n",
      "city number 293 puerto narino\n",
      "city number 294 nome\n",
      "city number 295 richards bay\n",
      "city number 296 benjamin constant\n",
      "city number 297 skelleftea\n",
      "city number 298 la asuncion\n",
      "city number 299 mao\n",
      "uh oh city not found!\n",
      "city number 300 georgetown\n",
      "city number 301 les cayes\n",
      "city number 302 kochubey\n",
      "city number 303 elur\n",
      "city number 304 clyde river\n",
      "city number 305 tapes\n",
      "city number 306 lavrentiya\n"
     ]
    },
    {
     "name": "stdout",
     "output_type": "stream",
     "text": [
      "city number 307 mollendo\n",
      "city number 308 elat\n",
      "city number 309 ostersund\n",
      "city number 310 severobaykalsk\n",
      "city number 311 korla\n",
      "city number 312 kita\n",
      "city number 313 omboue\n",
      "city number 314 srednekolymsk\n",
      "city number 315 beatrice\n",
      "city number 316 virginia beach\n",
      "city number 317 phalodi\n",
      "uh oh city not found!\n",
      "city number 318 nyurba\n",
      "city number 319 tatarsk\n",
      "uh oh city not found!\n",
      "city number 320 polunochnoye\n",
      "city number 321 aki\n",
      "city number 322 milkovo\n",
      "city number 323 egvekinot\n",
      "city number 324 bara\n",
      "city number 325 meulaboh\n",
      "city number 326 gayeri\n",
      "city number 327 solnechnyy\n",
      "city number 328 naze\n",
      "city number 329 berlevag\n",
      "uh oh city not found!\n",
      "city number 330 sabang\n",
      "uh oh city not found!\n",
      "city number 331 victor harbor\n",
      "city number 332 itarema\n",
      "city number 333 santa maria da vitoria\n",
      "city number 334 walvis bay\n",
      "city number 335 provideniya\n",
      "city number 336 fort morgan\n",
      "city number 337 segezha\n",
      "city number 338 sabalgarh\n",
      "city number 339 abnub\n",
      "city number 340 quatre cocos\n",
      "uh oh city not found!\n",
      "city number 341 iralaya\n",
      "city number 342 beringovskiy\n",
      "city number 343 yerky\n",
      "city number 344 kruisfontein\n",
      "city number 345 mana\n",
      "city number 346 vallenar\n",
      "city number 347 mocuba\n",
      "city number 348 pangkalanbuun\n",
      "city number 349 muros\n",
      "city number 350 purushottampur\n",
      "city number 351 mitu\n",
      "city number 352 vestmannaeyjar\n",
      "city number 353 hualmay\n",
      "city number 354 ceamurlia de jos\n",
      "city number 355 sivaki\n",
      "city number 356 ancud\n",
      "city number 357 salinopolis\n",
      "city number 358 mnogovershinnyy\n",
      "city number 359 northam\n",
      "city number 360 sioux lookout\n",
      "city number 361 yeppoon\n",
      "city number 362 thinadhoo\n",
      "city number 363 thaba-tseka\n",
      "city number 364 honningsvag\n",
      "city number 365 angoche\n",
      "city number 366 ulaangom\n",
      "city number 367 mahebourg\n",
      "city number 368 valencia\n",
      "city number 369 tiarei\n",
      "city number 370 wajid\n",
      "city number 371 saint anthony\n",
      "city number 372 warrnambool\n",
      "city number 373 talnakh\n",
      "city number 374 port lincoln\n",
      "city number 375 marsabit\n",
      "city number 376 caravelas\n",
      "city number 377 jahangirabad\n",
      "city number 378 guerrero negro\n",
      "city number 379 bang saphan\n",
      "city number 380 la ronge\n",
      "city number 381 pinotepa nacional\n",
      "city number 382 vila franca do campo\n",
      "city number 383 nishihara\n",
      "city number 384 tazovskiy\n",
      "city number 385 kahului\n",
      "city number 386 kavaratti\n",
      "city number 387 agaro\n",
      "city number 388 gravdal\n",
      "city number 389 valday\n",
      "city number 390 skerries\n",
      "city number 391 cururupu\n",
      "city number 392 karimganj\n",
      "city number 393 plainview\n",
      "city number 394 sadiqabad\n",
      "city number 395 karacakoy\n",
      "city number 396 calvinia\n",
      "city number 397 nouadhibou\n",
      "city number 398 sartell\n",
      "uh oh city not found!\n",
      "city number 399 lata\n",
      "city number 400 wattegama\n",
      "city number 401 fujin\n",
      "city number 402 kudahuvadhoo\n",
      "city number 403 kyren\n",
      "city number 404 waingapu\n",
      "city number 405 dauphin\n",
      "city number 406 camacha\n",
      "city number 407 carlyle\n",
      "city number 408 turukhansk\n",
      "uh oh city not found!\n",
      "city number 409 lashio\n",
      "city number 410 loandjili\n",
      "uh oh city not found!\n",
      "city number 411 caala\n",
      "city number 412 kutum\n",
      "city number 413 missoula\n",
      "city number 414 takoradi\n",
      "city number 415 pangai\n",
      "city number 416 seka\n",
      "city number 417 ribeira grande\n",
      "city number 418 mayo\n",
      "city number 419 panama city\n",
      "city number 420 ammon\n",
      "city number 421 puerto ayacucho\n",
      "city number 422 winnemucca\n",
      "city number 423 lithgow\n",
      "city number 424 shizilu\n",
      "city number 425 riyadh\n",
      "city number 426 ixtapa\n",
      "city number 427 saint-pierre\n",
      "city number 428 phayakkhaphum phisai\n",
      "city number 429 uitenhage\n",
      "city number 430 north vernon\n",
      "city number 431 miragoane\n",
      "city number 432 abha\n",
      "city number 433 kamenka\n",
      "city number 434 baltiysk\n",
      "city number 435 storm lake\n",
      "city number 436 gerash\n",
      "city number 437 miranda\n",
      "city number 438 christchurch\n",
      "city number 439 iskateley\n",
      "city number 440 senneterre\n",
      "city number 441 mikhaylovka\n",
      "city number 442 diego de almagro\n",
      "city number 443 sao joao da barra\n",
      "city number 444 fareham\n",
      "uh oh city not found!\n",
      "city number 445 nipawin\n",
      "city number 446 kargasok\n",
      "city number 447 huarmey\n",
      "city number 448 red wing\n",
      "city number 449 dukat\n",
      "city number 450 ust-nera\n",
      "city number 451 lukovetskiy\n",
      "city number 452 gaoual\n",
      "city number 453 fortuna\n",
      "city number 454 nivala\n",
      "city number 455 rehoboth\n",
      "uh oh city not found!\n",
      "city number 456 rafaela\n",
      "city number 457 sibiti\n",
      "city number 458 skhisma\n",
      "city number 459 nelson bay\n",
      "city number 460 bam\n",
      "city number 461 magaria\n",
      "city number 462 samfya\n",
      "city number 463 magdagachi\n",
      "city number 464 swan river\n",
      "city number 465 varkaus\n",
      "city number 466 port pirie\n",
      "city number 467 oranjestad\n",
      "city number 468 bucerias\n",
      "city number 469 khash\n",
      "uh oh city not found!\n",
      "city number 470 gao\n",
      "city number 471 kismayo\n",
      "city number 472 bilibino\n",
      "uh oh city not found!\n",
      "city number 473 severo-yeniseyskiy\n",
      "city number 474 byron bay\n",
      "city number 475 nexo\n",
      "city number 476 tura\n",
      "city number 477 enid\n",
      "city number 478 damghan\n",
      "city number 479 havelock\n",
      "city number 480 esperance\n",
      "city number 481 mbandaka\n",
      "city number 482 la romana\n",
      "city number 483 bambanglipuro\n",
      "uh oh city not found!\n",
      "uh oh city not found!\n",
      "city number 484 laguna\n",
      "city number 485 karlskrona\n",
      "city number 486 piranshahr\n",
      "city number 487 erzin\n",
      "city number 488 hobyo\n",
      "city number 489 saint-georges\n",
      "city number 490 rwamagana\n",
      "city number 491 krasnoselkup\n",
      "city number 492 valdivia\n",
      "city number 493 la serena\n",
      "city number 494 leiyang\n",
      "city number 495 bandipur\n",
      "city number 496 pacific grove\n",
      "city number 497 nichinan\n",
      "city number 498 pochutla\n",
      "uh oh city not found!\n",
      "uh oh city not found!\n",
      "city number 499 presidencia roque saenz pena\n",
      "city number 500 aneho\n",
      "city number 501 kandalaksha\n",
      "city number 502 aniva\n",
      "city number 503 flinders\n",
      "city number 504 kiunga\n",
      "uh oh city not found!\n",
      "city number 505 saint-joseph\n",
      "city number 506 chernyshevskiy\n",
      "city number 507 marsh harbour\n",
      "city number 508 sitka\n",
      "city number 509 qui nhon\n",
      "city number 510 yerbogachen\n",
      "uh oh city not found!\n",
      "city number 511 barras\n",
      "city number 512 huadian\n",
      "city number 513 nemuro\n",
      "city number 514 ponta do sol\n",
      "city number 515 yaan\n",
      "city number 516 namibe\n",
      "city number 517 zeya\n",
      "city number 518 dwarka\n",
      "city number 519 homer\n",
      "city number 520 paamiut\n",
      "city number 521 almaznyy\n",
      "city number 522 eureka\n",
      "city number 523 caconda\n",
      "city number 524 bagotville\n",
      "city number 525 pringsewu\n",
      "city number 526 vilkija\n",
      "city number 527 puerto barrios\n",
      "city number 528 alyangula\n",
      "city number 529 belyy yar\n",
      "city number 530 noumea\n",
      "uh oh city not found!\n",
      "city number 531 havre-saint-pierre\n",
      "city number 532 paoua\n",
      "city number 533 karratha\n",
      "city number 534 aquidauana\n",
      "city number 535 san lazaro\n",
      "city number 536 batagay-alyta\n",
      "city number 537 rio branco\n",
      "city number 538 orcopampa\n",
      "city number 539 cuajinicuilapa\n",
      "city number 540 cockburn town\n",
      "city number 541 finschhafen\n",
      "city number 542 bay roberts\n",
      "city number 543 hanzhong\n",
      "uh oh city not found!\n",
      "city number 544 aykhal\n",
      "city number 545 elko\n",
      "city number 546 arenal\n",
      "city number 547 berdigestyakh\n",
      "city number 548 ostrovnoy\n",
      "city number 549 turkistan\n",
      "city number 550 rantepao\n",
      "city number 551 sucua\n",
      "city number 552 aqtobe\n",
      "city number 553 portland\n",
      "city number 554 orbetello\n",
      "city number 555 kiama\n",
      "city number 556 ambon\n"
     ]
    }
   ],
   "source": [
    "for city in cities:\n",
    "    response = requests.get(query_url + city).json()\n",
    "    try: \n",
    "        names.append(response['name']) \n",
    "        lat.append(response['coord']['lat'])\n",
    "        lng.append(response['coord']['lon'])\n",
    "        temp.append(response['main']['temp']) \n",
    "        max_t.append(response['main']['temp_max'])\n",
    "        cloud.append(response['clouds']['all']) \n",
    "        wspeed.append(response['wind']['speed']) \n",
    "        country.append(response['sys']['country'])\n",
    "        date.append(response['dt'])\n",
    "        humid.append(response['main']['humidity'])\n",
    "        city_data = ({'City':names,\n",
    "                     'Lat':lat,\n",
    "                     'Lon':lng,\n",
    "                     'Temp':temp,\n",
    "                     'Max Temp':max_t, \n",
    "                     'Cloudiness':cloud,\n",
    "                     'Wind Speed':wspeed,\n",
    "                     'Country':country,\n",
    "                     'Date':date,\n",
    "                     'Humidity':humid})\n",
    "        print(f'city number {record_count} {city}')\n",
    "        record_count += 1\n",
    "    except: \n",
    "        print('uh oh city not found!')\n",
    "        \n"
   ]
  },
  {
   "cell_type": "markdown",
   "metadata": {},
   "source": [
    "### Convert Raw Data to DataFrame\n",
    "* Export the city data into a .csv.\n",
    "* Display the DataFrame"
   ]
  },
  {
   "cell_type": "code",
   "execution_count": 5,
   "metadata": {},
   "outputs": [
    {
     "data": {
      "text/html": [
       "<div>\n",
       "<style scoped>\n",
       "    .dataframe tbody tr th:only-of-type {\n",
       "        vertical-align: middle;\n",
       "    }\n",
       "\n",
       "    .dataframe tbody tr th {\n",
       "        vertical-align: top;\n",
       "    }\n",
       "\n",
       "    .dataframe thead th {\n",
       "        text-align: right;\n",
       "    }\n",
       "</style>\n",
       "<table border=\"1\" class=\"dataframe\">\n",
       "  <thead>\n",
       "    <tr style=\"text-align: right;\">\n",
       "      <th></th>\n",
       "      <th>City</th>\n",
       "      <th>Lat</th>\n",
       "      <th>Lon</th>\n",
       "      <th>Temp</th>\n",
       "      <th>Max Temp</th>\n",
       "      <th>Cloudiness</th>\n",
       "      <th>Wind Speed</th>\n",
       "      <th>Country</th>\n",
       "      <th>Date</th>\n",
       "      <th>Humidity</th>\n",
       "    </tr>\n",
       "  </thead>\n",
       "  <tbody>\n",
       "    <tr>\n",
       "      <th>0</th>\n",
       "      <td>Avera</td>\n",
       "      <td>33.1940</td>\n",
       "      <td>-82.5271</td>\n",
       "      <td>62.64</td>\n",
       "      <td>64.40</td>\n",
       "      <td>1</td>\n",
       "      <td>9.22</td>\n",
       "      <td>US</td>\n",
       "      <td>1619131767</td>\n",
       "      <td>19</td>\n",
       "    </tr>\n",
       "    <tr>\n",
       "      <th>1</th>\n",
       "      <td>Gizo Government Station</td>\n",
       "      <td>-8.1030</td>\n",
       "      <td>156.8419</td>\n",
       "      <td>83.21</td>\n",
       "      <td>83.21</td>\n",
       "      <td>100</td>\n",
       "      <td>3.62</td>\n",
       "      <td>SB</td>\n",
       "      <td>1619132237</td>\n",
       "      <td>71</td>\n",
       "    </tr>\n",
       "    <tr>\n",
       "      <th>2</th>\n",
       "      <td>Bredasdorp</td>\n",
       "      <td>-34.5322</td>\n",
       "      <td>20.0403</td>\n",
       "      <td>62.08</td>\n",
       "      <td>62.08</td>\n",
       "      <td>1</td>\n",
       "      <td>1.88</td>\n",
       "      <td>ZA</td>\n",
       "      <td>1619131697</td>\n",
       "      <td>92</td>\n",
       "    </tr>\n",
       "    <tr>\n",
       "      <th>3</th>\n",
       "      <td>Viedma</td>\n",
       "      <td>-40.8135</td>\n",
       "      <td>-62.9967</td>\n",
       "      <td>60.58</td>\n",
       "      <td>60.58</td>\n",
       "      <td>40</td>\n",
       "      <td>7.14</td>\n",
       "      <td>AR</td>\n",
       "      <td>1619132036</td>\n",
       "      <td>59</td>\n",
       "    </tr>\n",
       "    <tr>\n",
       "      <th>4</th>\n",
       "      <td>Busselton</td>\n",
       "      <td>-33.6500</td>\n",
       "      <td>115.3333</td>\n",
       "      <td>55.08</td>\n",
       "      <td>57.00</td>\n",
       "      <td>82</td>\n",
       "      <td>1.99</td>\n",
       "      <td>AU</td>\n",
       "      <td>1619131934</td>\n",
       "      <td>84</td>\n",
       "    </tr>\n",
       "  </tbody>\n",
       "</table>\n",
       "</div>"
      ],
      "text/plain": [
       "                      City      Lat       Lon   Temp  Max Temp  Cloudiness  \\\n",
       "0                    Avera  33.1940  -82.5271  62.64     64.40           1   \n",
       "1  Gizo Government Station  -8.1030  156.8419  83.21     83.21         100   \n",
       "2               Bredasdorp -34.5322   20.0403  62.08     62.08           1   \n",
       "3                   Viedma -40.8135  -62.9967  60.58     60.58          40   \n",
       "4                Busselton -33.6500  115.3333  55.08     57.00          82   \n",
       "\n",
       "   Wind Speed Country        Date  Humidity  \n",
       "0        9.22      US  1619131767        19  \n",
       "1        3.62      SB  1619132237        71  \n",
       "2        1.88      ZA  1619131697        92  \n",
       "3        7.14      AR  1619132036        59  \n",
       "4        1.99      AU  1619131934        84  "
      ]
     },
     "execution_count": 5,
     "metadata": {},
     "output_type": "execute_result"
    }
   ],
   "source": [
    "df = pd.DataFrame(city_data)\n",
    "csv_file = df.to_csv('city_data.csv')\n",
    "df.head()"
   ]
  },
  {
   "cell_type": "code",
   "execution_count": 6,
   "metadata": {},
   "outputs": [
    {
     "data": {
      "text/plain": [
       "{'coord': {'lon': 128.1814, 'lat': -3.6954},\n",
       " 'weather': [{'id': 802,\n",
       "   'main': 'Clouds',\n",
       "   'description': 'scattered clouds',\n",
       "   'icon': '03d'}],\n",
       " 'base': 'stations',\n",
       " 'main': {'temp': 78.8,\n",
       "  'feels_like': 78.8,\n",
       "  'temp_min': 78.8,\n",
       "  'temp_max': 78.8,\n",
       "  'pressure': 1010,\n",
       "  'humidity': 94},\n",
       " 'visibility': 10000,\n",
       " 'wind': {'speed': 6.91, 'deg': 330},\n",
       " 'clouds': {'all': 40},\n",
       " 'dt': 1619132292,\n",
       " 'sys': {'type': 1,\n",
       "  'id': 9361,\n",
       "  'country': 'ID',\n",
       "  'sunrise': 1619126719,\n",
       "  'sunset': 1619169935},\n",
       " 'timezone': 32400,\n",
       " 'id': 1651531,\n",
       " 'name': 'Ambon City',\n",
       " 'cod': 200}"
      ]
     },
     "execution_count": 6,
     "metadata": {},
     "output_type": "execute_result"
    }
   ],
   "source": [
    "response"
   ]
  },
  {
   "cell_type": "markdown",
   "metadata": {},
   "source": [
    "## Inspect the data and remove the cities where the humidity > 100%.\n",
    "----\n",
    "Skip this step if there are no cities that have humidity > 100%. "
   ]
  },
  {
   "cell_type": "code",
   "execution_count": null,
   "metadata": {},
   "outputs": [],
   "source": []
  },
  {
   "cell_type": "code",
   "execution_count": 7,
   "metadata": {},
   "outputs": [],
   "source": [
    "#  Get the indices of cities that have humidity over 100%.\n"
   ]
  },
  {
   "cell_type": "code",
   "execution_count": 8,
   "metadata": {},
   "outputs": [],
   "source": [
    "# Make a new DataFrame equal to the city data to drop all humidity outliers by index.\n",
    "# Passing \"inplace=False\" will make a copy of the city_data DataFrame, which we call \"clean_city_data\".\n"
   ]
  },
  {
   "cell_type": "code",
   "execution_count": 9,
   "metadata": {},
   "outputs": [
    {
     "data": {
      "text/html": [
       "<div>\n",
       "<style scoped>\n",
       "    .dataframe tbody tr th:only-of-type {\n",
       "        vertical-align: middle;\n",
       "    }\n",
       "\n",
       "    .dataframe tbody tr th {\n",
       "        vertical-align: top;\n",
       "    }\n",
       "\n",
       "    .dataframe thead th {\n",
       "        text-align: right;\n",
       "    }\n",
       "</style>\n",
       "<table border=\"1\" class=\"dataframe\">\n",
       "  <thead>\n",
       "    <tr style=\"text-align: right;\">\n",
       "      <th></th>\n",
       "      <th>City</th>\n",
       "      <th>Lat</th>\n",
       "      <th>Lon</th>\n",
       "      <th>Temp</th>\n",
       "      <th>Max Temp</th>\n",
       "      <th>Cloudiness</th>\n",
       "      <th>Wind Speed</th>\n",
       "      <th>Country</th>\n",
       "      <th>Date</th>\n",
       "      <th>Humidity</th>\n",
       "    </tr>\n",
       "  </thead>\n",
       "  <tbody>\n",
       "    <tr>\n",
       "      <th>93</th>\n",
       "      <td>Cape Town</td>\n",
       "      <td>-33.9258</td>\n",
       "      <td>18.4232</td>\n",
       "      <td>56.48</td>\n",
       "      <td>57.00</td>\n",
       "      <td>90</td>\n",
       "      <td>12.66</td>\n",
       "      <td>ZA</td>\n",
       "      <td>1619131834</td>\n",
       "      <td>100</td>\n",
       "    </tr>\n",
       "    <tr>\n",
       "      <th>265</th>\n",
       "      <td>Cabedelo</td>\n",
       "      <td>-6.9811</td>\n",
       "      <td>-34.8339</td>\n",
       "      <td>78.80</td>\n",
       "      <td>78.80</td>\n",
       "      <td>0</td>\n",
       "      <td>6.91</td>\n",
       "      <td>BR</td>\n",
       "      <td>1619132284</td>\n",
       "      <td>100</td>\n",
       "    </tr>\n",
       "    <tr>\n",
       "      <th>268</th>\n",
       "      <td>Martapura</td>\n",
       "      <td>-3.4167</td>\n",
       "      <td>114.8500</td>\n",
       "      <td>73.40</td>\n",
       "      <td>73.40</td>\n",
       "      <td>18</td>\n",
       "      <td>2.30</td>\n",
       "      <td>ID</td>\n",
       "      <td>1619132315</td>\n",
       "      <td>100</td>\n",
       "    </tr>\n",
       "    <tr>\n",
       "      <th>356</th>\n",
       "      <td>Ancud</td>\n",
       "      <td>-41.8697</td>\n",
       "      <td>-73.8203</td>\n",
       "      <td>47.89</td>\n",
       "      <td>51.01</td>\n",
       "      <td>75</td>\n",
       "      <td>8.05</td>\n",
       "      <td>CL</td>\n",
       "      <td>1619131970</td>\n",
       "      <td>100</td>\n",
       "    </tr>\n",
       "    <tr>\n",
       "      <th>423</th>\n",
       "      <td>Lithgow</td>\n",
       "      <td>-33.4833</td>\n",
       "      <td>150.1500</td>\n",
       "      <td>46.99</td>\n",
       "      <td>46.99</td>\n",
       "      <td>4</td>\n",
       "      <td>5.01</td>\n",
       "      <td>AU</td>\n",
       "      <td>1619132362</td>\n",
       "      <td>100</td>\n",
       "    </tr>\n",
       "    <tr>\n",
       "      <th>465</th>\n",
       "      <td>Varkaus</td>\n",
       "      <td>62.3153</td>\n",
       "      <td>27.8730</td>\n",
       "      <td>36.81</td>\n",
       "      <td>39.00</td>\n",
       "      <td>0</td>\n",
       "      <td>2.30</td>\n",
       "      <td>FI</td>\n",
       "      <td>1619132375</td>\n",
       "      <td>100</td>\n",
       "    </tr>\n",
       "    <tr>\n",
       "      <th>502</th>\n",
       "      <td>Aniva</td>\n",
       "      <td>46.7144</td>\n",
       "      <td>142.5294</td>\n",
       "      <td>33.80</td>\n",
       "      <td>33.80</td>\n",
       "      <td>75</td>\n",
       "      <td>4.47</td>\n",
       "      <td>RU</td>\n",
       "      <td>1619132388</td>\n",
       "      <td>100</td>\n",
       "    </tr>\n",
       "    <tr>\n",
       "      <th>531</th>\n",
       "      <td>Havre-St-Pierre</td>\n",
       "      <td>50.2334</td>\n",
       "      <td>-63.5986</td>\n",
       "      <td>37.40</td>\n",
       "      <td>37.40</td>\n",
       "      <td>90</td>\n",
       "      <td>19.57</td>\n",
       "      <td>CA</td>\n",
       "      <td>1619132397</td>\n",
       "      <td>100</td>\n",
       "    </tr>\n",
       "  </tbody>\n",
       "</table>\n",
       "</div>"
      ],
      "text/plain": [
       "                City      Lat       Lon   Temp  Max Temp  Cloudiness  \\\n",
       "93         Cape Town -33.9258   18.4232  56.48     57.00          90   \n",
       "265         Cabedelo  -6.9811  -34.8339  78.80     78.80           0   \n",
       "268        Martapura  -3.4167  114.8500  73.40     73.40          18   \n",
       "356            Ancud -41.8697  -73.8203  47.89     51.01          75   \n",
       "423          Lithgow -33.4833  150.1500  46.99     46.99           4   \n",
       "465          Varkaus  62.3153   27.8730  36.81     39.00           0   \n",
       "502            Aniva  46.7144  142.5294  33.80     33.80          75   \n",
       "531  Havre-St-Pierre  50.2334  -63.5986  37.40     37.40          90   \n",
       "\n",
       "     Wind Speed Country        Date  Humidity  \n",
       "93        12.66      ZA  1619131834       100  \n",
       "265        6.91      BR  1619132284       100  \n",
       "268        2.30      ID  1619132315       100  \n",
       "356        8.05      CL  1619131970       100  \n",
       "423        5.01      AU  1619132362       100  \n",
       "465        2.30      FI  1619132375       100  \n",
       "502        4.47      RU  1619132388       100  \n",
       "531       19.57      CA  1619132397       100  "
      ]
     },
     "execution_count": 9,
     "metadata": {},
     "output_type": "execute_result"
    }
   ],
   "source": [
    "df.loc[df['Humidity']>=100]\n"
   ]
  },
  {
   "cell_type": "markdown",
   "metadata": {},
   "source": [
    "## Plotting the Data\n",
    "* Use proper labeling of the plots using plot titles (including date of analysis) and axes labels.\n",
    "* Save the plotted figures as .pngs."
   ]
  },
  {
   "cell_type": "markdown",
   "metadata": {},
   "source": [
    "## Latitude vs. Temperature Plot"
   ]
  },
  {
   "cell_type": "code",
   "execution_count": 10,
   "metadata": {
    "scrolled": true
   },
   "outputs": [
    {
     "data": {
      "image/png": "[encoded data removed]",
      "text/plain": [
       "<Figure size 432x288 with 1 Axes>"
      ]
     },
     "metadata": {
      "needs_background": "light"
     },
     "output_type": "display_data"
    }
   ],
   "source": [
    "plt.scatter(lat,temp)\n",
    "plt.title('Latitude vs. Temperature Plot (4/22/2021)')\n",
    "plt.xlabel('Latitude')\n",
    "plt.ylabel('Temperature')\n",
    "plt.show()"
   ]
  },
  {
   "cell_type": "markdown",
   "metadata": {},
   "source": [
    "## Latitude vs. Humidity Plot"
   ]
  },
  {
   "cell_type": "code",
   "execution_count": 11,
   "metadata": {},
   "outputs": [
    {
     "data": {
      "image/png": "[encoded data removed]",
      "text/plain": [
       "<Figure size 432x288 with 1 Axes>"
      ]
     },
     "metadata": {
      "needs_background": "light"
     },
     "output_type": "display_data"
    }
   ],
   "source": [
    "plt.scatter(lat,humid)\n",
    "plt.title('Latitude vs. Humidity (4/22/2021)')\n",
    "plt.xlabel('Latitude')\n",
    "plt.ylabel('Humidity')\n",
    "plt.show()"
   ]
  },
  {
   "cell_type": "markdown",
   "metadata": {},
   "source": [
    "## Latitude vs. Cloudiness Plot"
   ]
  },
  {
   "cell_type": "code",
   "execution_count": 12,
   "metadata": {},
   "outputs": [
    {
     "data": {
      "image/png": "[encoded data removed]",
      "text/plain": [
       "<Figure size 432x288 with 1 Axes>"
      ]
     },
     "metadata": {
      "needs_background": "light"
     },
     "output_type": "display_data"
    }
   ],
   "source": [
    "plt.scatter(lat,cloud)\n",
    "plt.title('Latitude vs. Cloudiness (4/22/2021)')\n",
    "plt.xlabel('Latitude')\n",
    "plt.ylabel('Cloudiness')\n",
    "plt.show()"
   ]
  },
  {
   "cell_type": "markdown",
   "metadata": {},
   "source": [
    "## Latitude vs. Wind Speed Plot"
   ]
  },
  {
   "cell_type": "code",
   "execution_count": 27,
   "metadata": {},
   "outputs": [
    {
     "data": {
      "image/png": "[encoded data removed]",
      "text/plain": [
       "<Figure size 432x288 with 1 Axes>"
      ]
     },
     "metadata": {
      "needs_background": "light"
     },
     "output_type": "display_data"
    }
   ],
   "source": [
    "plt.scatter(lat,wspeed)\n",
    "plt.title('Latitude vs. Wind Speed (4/22/2021)')\n",
    "plt.xlabel('Latitude')\n",
    "plt.ylabel('Wind Speed')\n",
    "plt.show()"
   ]
  },
  {
   "cell_type": "markdown",
   "metadata": {},
   "source": [
    "## Linear Regression"
   ]
  },
  {
   "cell_type": "code",
   "execution_count": 21,
   "metadata": {},
   "outputs": [
    {
     "data": {
      "text/plain": [
       "{'coord': {'lon': 128.1814, 'lat': -3.6954},\n",
       " 'weather': [{'id': 802,\n",
       "   'main': 'Clouds',\n",
       "   'description': 'scattered clouds',\n",
       "   'icon': '03d'}],\n",
       " 'base': 'stations',\n",
       " 'main': {'temp': 78.8,\n",
       "  'feels_like': 78.8,\n",
       "  'temp_min': 78.8,\n",
       "  'temp_max': 78.8,\n",
       "  'pressure': 1010,\n",
       "  'humidity': 94},\n",
       " 'visibility': 10000,\n",
       " 'wind': {'speed': 6.91, 'deg': 330},\n",
       " 'clouds': {'all': 40},\n",
       " 'dt': 1619132292,\n",
       " 'sys': {'type': 1,\n",
       "  'id': 9361,\n",
       "  'country': 'ID',\n",
       "  'sunrise': 1619126719,\n",
       "  'sunset': 1619169935},\n",
       " 'timezone': 32400,\n",
       " 'id': 1651531,\n",
       " 'name': 'Ambon City',\n",
       " 'cod': 200}"
      ]
     },
     "execution_count": 21,
     "metadata": {},
     "output_type": "execute_result"
    }
   ],
   "source": [
    "response"
   ]
  },
  {
   "cell_type": "markdown",
   "metadata": {},
   "source": [
    "####  Northern Hemisphere - Max Temp vs. Latitude Linear Regression"
   ]
  },
  {
   "cell_type": "code",
   "execution_count": 46,
   "metadata": {},
   "outputs": [
    {
     "data": {
      "image/png": "[encoded data removed]",
      "text/plain": [
       "<Figure size 432x288 with 1 Axes>"
      ]
     },
     "metadata": {
      "needs_background": "light"
     },
     "output_type": "display_data"
    },
    {
     "data": {
      "text/plain": [
       "LinregressResult(slope=-0.9668658772812404, intercept=92.49432020127878, rvalue=-0.9009523541093172, pvalue=2.5935503839760275e-137, stderr=0.02411113684223455)"
      ]
     },
     "execution_count": 46,
     "metadata": {},
     "output_type": "execute_result"
    }
   ],
   "source": [
    "north_hemi = df.loc[df['Lat']>0]\n",
    "south_hemi = df.loc[df['Lat']<0]\n",
    "n_max_t = north_hemi.iloc[:,4]\n",
    "n_lat = north_hemi.iloc[:,1]\n",
    "\n",
    "vc_slope, vc_int, vc_r, vc_p, vc_std_err = linregress(n_lat, n_max_t)\n",
    "vc_fit = vc_slope * n_lat + vc_int\n",
    "plt.scatter(n_lat,n_max_t)\n",
    "plt.plot(n_lat,vc_fit,'--',color='red')\n",
    "plt.title('Latitude vs. Max Temp for Northern Hemisphere (4/22/21)')\n",
    "plt.text(5,15,'Y = -0.96X + 92.49',color = 'red')\n",
    "plt.xlabel('Latitude')\n",
    "plt.ylabel('Max Temperature')\n",
    "plt.show()\n",
    "linregress(n_lat,n_max_t)"
   ]
  },
  {
   "cell_type": "markdown",
   "metadata": {},
   "source": [
    "####  Southern Hemisphere - Max Temp vs. Latitude Linear Regression"
   ]
  },
  {
   "cell_type": "code",
   "execution_count": 60,
   "metadata": {},
   "outputs": [
    {
     "data": {
      "image/png": "[encoded data removed]",
      "text/plain": [
       "<Figure size 432x288 with 1 Axes>"
      ]
     },
     "metadata": {
      "needs_background": "light"
     },
     "output_type": "display_data"
    }
   ],
   "source": [
    "s_maxt = south_hemi.iloc[:,4]\n",
    "s_lat = south_hemi.iloc[:,1]\n",
    "\n",
    "linregress(s_lat,s_maxt)\n",
    "vc_slope, vc_int, vc_r, vc_p, vc_std_err = linregress(s_lat, s_maxt)\n",
    "vc_fit = vc_slope * s_lat + vc_int\n",
    "plt.scatter(s_lat,s_maxt)\n",
    "plt.plot(s_lat,vc_fit,'--',color='red')\n",
    "plt.title('Latitude vs. Max Temp for Southern Hemisphere (4/22/21)')\n",
    "plt.text(-20,50,'Y = 0.54X + 80.24',color = 'red')\n",
    "plt.xlabel('Latitude')\n",
    "plt.ylabel('Max Temperature')\n",
    "plt.show()"
   ]
  },
  {
   "cell_type": "markdown",
   "metadata": {},
   "source": [
    "####  Northern Hemisphere - Humidity (%) vs. Latitude Linear Regression"
   ]
  },
  {
   "cell_type": "code",
   "execution_count": 70,
   "metadata": {},
   "outputs": [
    {
     "data": {
      "image/png": "[encoded data removed]",
      "text/plain": [
       "<Figure size 432x288 with 1 Axes>"
      ]
     },
     "metadata": {
      "needs_background": "light"
     },
     "output_type": "display_data"
    },
    {
     "data": {
      "text/plain": [
       "LinregressResult(slope=0.16661619822470009, intercept=60.165776729013736, rvalue=0.14327676030724376, pvalue=0.00544200861366881, stderr=0.059591321102831475)"
      ]
     },
     "execution_count": 70,
     "metadata": {},
     "output_type": "execute_result"
    }
   ],
   "source": [
    "n_humid = north_hemi.iloc[:,9]\n",
    "\n",
    "vc_slope, vc_int, vc_r, vc_p, vc_std_err = linregress(n_lat, n_humid)\n",
    "vc_fit = vc_slope * n_lat + vc_int\n",
    "plt.scatter(n_lat,n_humid)\n",
    "plt.plot(n_lat,vc_fit,'--',color='red')\n",
    "plt.title('Latitude vs. Humidity for Northern Hemisphere (4/22/21)')\n",
    "plt.text(55,15,'Y = 0.16X + 60.16',color = 'red')\n",
    "plt.xlabel('Latitude')\n",
    "plt.ylabel('Humidity')\n",
    "plt.show()\n",
    "linregress(n_lat,n_humid)"
   ]
  },
  {
   "cell_type": "markdown",
   "metadata": {},
   "source": [
    "####  Southern Hemisphere - Humidity (%) vs. Latitude Linear Regression"
   ]
  },
  {
   "cell_type": "code",
   "execution_count": 74,
   "metadata": {},
   "outputs": [
    {
     "data": {
      "image/png": "[encoded data removed]",
      "text/plain": [
       "<Figure size 432x288 with 1 Axes>"
      ]
     },
     "metadata": {
      "needs_background": "light"
     },
     "output_type": "display_data"
    },
    {
     "data": {
      "text/plain": [
       "LinregressResult(slope=0.15893470624118106, intercept=80.18961650244357, rvalue=0.13637202606636795, pvalue=0.06640666497454654, stderr=0.08605593268049203)"
      ]
     },
     "execution_count": 74,
     "metadata": {},
     "output_type": "execute_result"
    }
   ],
   "source": [
    "s_humid = south_hemi.iloc[:,9]\n",
    "vc_slope, vc_int, vc_r, vc_p, vc_std_err = linregress(s_lat, s_humid)\n",
    "vc_fit = vc_slope * s_lat + vc_int\n",
    "plt.scatter(s_lat,s_humid)\n",
    "plt.plot(s_lat,vc_fit,'--',color='red')\n",
    "plt.title('Latitude vs. Humidity for Northern Hemisphere (4/22/21)')\n",
    "plt.text(-55,15,'Y = 0.15X + 80.18',color = 'red')\n",
    "plt.xlabel('Latitude')\n",
    "plt.ylabel('Humidity')\n",
    "plt.show()\n",
    "linregress(s_lat,s_humid)"
   ]
  },
  {
   "cell_type": "markdown",
   "metadata": {},
   "source": [
    "####  Northern Hemisphere - Cloudiness (%) vs. Latitude Linear Regression"
   ]
  },
  {
   "cell_type": "code",
   "execution_count": 86,
   "metadata": {},
   "outputs": [
    {
     "data": {
      "image/png": "[encoded data removed]",
      "text/plain": [
       "<Figure size 432x288 with 1 Axes>"
      ]
     },
     "metadata": {
      "needs_background": "light"
     },
     "output_type": "display_data"
    },
    {
     "data": {
      "text/plain": [
       "LinregressResult(slope=0.24985378522517226, intercept=44.98472929517327, rvalue=0.13578194427947632, pvalue=0.00846762891187792, stderr=0.09439492424077171)"
      ]
     },
     "execution_count": 86,
     "metadata": {},
     "output_type": "execute_result"
    }
   ],
   "source": [
    "n_cloud = north_hemi.iloc[:,5]\n",
    "vc_slope, vc_int, vc_r, vc_p, vc_std_err = linregress(n_lat, n_cloud)\n",
    "vc_fit = vc_slope * n_lat + vc_int\n",
    "plt.scatter(n_lat,n_cloud)\n",
    "plt.plot(n_lat,vc_fit,'--',color='red')\n",
    "plt.title('Latitude vs. Cloudiness for Northern Hemisphere (4/22/21)')\n",
    "plt.text(58,10,'Y = 0.24X + 44.98',color = 'red')\n",
    "plt.xlabel('Latitude')\n",
    "plt.ylabel('Cloudiness %')\n",
    "plt.show()\n",
    "linregress(n_lat,n_cloud)"
   ]
  },
  {
   "cell_type": "markdown",
   "metadata": {},
   "source": [
    "####  Southern Hemisphere - Cloudiness (%) vs. Latitude Linear Regression"
   ]
  },
  {
   "cell_type": "code",
   "execution_count": 91,
   "metadata": {},
   "outputs": [
    {
     "data": {
      "image/png": "[encoded data removed]",
      "text/plain": [
       "<Figure size 432x288 with 1 Axes>"
      ]
     },
     "metadata": {
      "needs_background": "light"
     },
     "output_type": "display_data"
    },
    {
     "data": {
      "text/plain": [
       "LinregressResult(slope=0.145072938467941, intercept=58.4066364038976, rvalue=0.052284313090945465, pvalue=0.48331939773565014, stderr=0.20653056415847493)"
      ]
     },
     "execution_count": 91,
     "metadata": {},
     "output_type": "execute_result"
    }
   ],
   "source": [
    "s_cloud = south_hemi.iloc[:,5]\n",
    "vc_slope, vc_int, vc_r, vc_p, vc_std_err = linregress(s_lat, s_cloud)\n",
    "vc_fit = vc_slope * s_lat + vc_int\n",
    "plt.scatter(s_lat,s_cloud)\n",
    "plt.plot(s_lat,vc_fit,'--',color='red')\n",
    "plt.title('Latitude vs. Cloudiness for Southern Hemisphere (4/22/21)')\n",
    "plt.text(-55,10,'Y = 0.14X + 58.40',color = 'red')\n",
    "plt.xlabel('Latitude')\n",
    "plt.ylabel('Cloudiness %')\n",
    "plt.show()\n",
    "linregress(s_lat,s_cloud)"
   ]
  },
  {
   "cell_type": "markdown",
   "metadata": {},
   "source": [
    "####  Northern Hemisphere - Wind Speed (mph) vs. Latitude Linear Regression"
   ]
  },
  {
   "cell_type": "code",
   "execution_count": 98,
   "metadata": {},
   "outputs": [
    {
     "data": {
      "image/png": "[encoded data removed]",
      "text/plain": [
       "<Figure size 432x288 with 1 Axes>"
      ]
     },
     "metadata": {
      "needs_background": "light"
     },
     "output_type": "display_data"
    },
    {
     "data": {
      "text/plain": [
       "LinregressResult(slope=0.011580512674890086, intercept=8.475604213070397, rvalue=0.039231363705054506, pvalue=0.4487698448376143, stderr=0.015272336937207233)"
      ]
     },
     "execution_count": 98,
     "metadata": {},
     "output_type": "execute_result"
    }
   ],
   "source": [
    "n_wspeed = north_hemi.iloc[:,6]\n",
    "vc_slope, vc_int, vc_r, vc_p, vc_std_err = linregress(n_lat, n_wspeed)\n",
    "vc_fit = vc_slope * n_lat + vc_int\n",
    "plt.scatter(n_lat,n_wspeed)\n",
    "plt.plot(n_lat,vc_fit,'--',color='red')\n",
    "plt.title('Latitude vs. Wind Speed for Northern Hemisphere (4/22/21)')\n",
    "plt.text(10,30,'Y = 0.01X + 8.47',color = 'red')\n",
    "plt.xlabel('Latitude')\n",
    "plt.ylabel('Wind Speed mph')\n",
    "plt.show()\n",
    "linregress(n_lat,n_wspeed)"
   ]
  },
  {
   "cell_type": "markdown",
   "metadata": {},
   "source": [
    "####  Southern Hemisphere - Wind Speed (mph) vs. Latitude Linear Regression"
   ]
  },
  {
   "cell_type": "code",
   "execution_count": 100,
   "metadata": {},
   "outputs": [
    {
     "data": {
      "image/png": "[encoded data removed]",
      "text/plain": [
       "<Figure size 432x288 with 1 Axes>"
      ]
     },
     "metadata": {
      "needs_background": "light"
     },
     "output_type": "display_data"
    },
    {
     "data": {
      "text/plain": [
       "LinregressResult(slope=-0.06164582083220345, intercept=5.609667526540447, rvalue=-0.18391223744548973, pvalue=0.0129459353327585, stderr=0.024557544900912928)"
      ]
     },
     "execution_count": 100,
     "metadata": {},
     "output_type": "execute_result"
    }
   ],
   "source": [
    "s_wspeed = south_hemi.iloc[:,6]\n",
    "vc_slope, vc_int, vc_r, vc_p, vc_std_err = linregress(s_lat, s_wspeed)\n",
    "vc_fit = vc_slope * s_lat + vc_int\n",
    "plt.scatter(s_lat,s_wspeed)\n",
    "plt.plot(s_lat,vc_fit,'--',color='red')\n",
    "plt.title('Latitude vs. Wind Speed for Southern Hemisphere (4/22/21)')\n",
    "plt.text(-55,20,'Y = -0.06X + 5.60',color = 'red')\n",
    "plt.xlabel('Latitude')\n",
    "plt.ylabel('Wind Speed mph')\n",
    "plt.show()\n",
    "linregress(s_lat,s_wspeed)"
   ]
  },
  {
   "cell_type": "code",
   "execution_count": null,
   "metadata": {},
   "outputs": [],
   "source": []
  }
 ],
 "metadata": {
  "anaconda-cloud": {},
  "kernel_info": {
   "name": "python3"
  },
  "kernelspec": {
   "display_name": "Python [conda env:PythonData]",
   "language": "python",
   "name": "conda-env-PythonData-py"
  },
  "language_info": {
   "codemirror_mode": {
    "name": "ipython",
    "version": 3
   },
   "file_extension": ".py",
   "mimetype": "text/x-python",
   "name": "python",
   "nbconvert_exporter": "python",
   "pygments_lexer": "ipython3",
   "version": "3.6.10"
  },
  "latex_envs": {
   "LaTeX_envs_menu_present": true,
   "autoclose": false,
   "autocomplete": true,
   "bibliofile": "biblio.bib",
   "cite_by": "apalike",
   "current_citInitial": 1,
   "eqLabelWithNumbers": true,
   "eqNumInitial": 1,
   "hotkeys": {
    "equation": "Ctrl-E",
    "itemize": "Ctrl-I"
   },
   "labels_anchors": false,
   "latex_user_defs": false,
   "report_style_numbering": false,
   "user_envs_cfg": false
  },
  "nteract": {
   "version": "0.12.3"
  }
 },
 "nbformat": 4,
 "nbformat_minor": 2
}
